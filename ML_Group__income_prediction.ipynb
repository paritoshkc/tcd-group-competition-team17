{
 "cells": [
  {
   "cell_type": "code",
   "execution_count": 0,
   "metadata": {
    "colab": {
     "base_uri": "https://localhost:8080/",
     "height": 128
    },
    "colab_type": "code",
    "id": "8lTeIpwMfKCm",
    "outputId": "c8a6a273-5ec6-4171-d27d-447586cfb24b"
   },
   "outputs": [
    {
     "name": "stdout",
     "output_type": "stream",
     "text": [
      "Go to this URL in a browser: https://accounts.google.com/o/oauth2/auth?client_id=947318989803-6bn6qk8qdgf4n4g3pfee6491hc0brc4i.apps.googleusercontent.com&redirect_uri=urn%3Aietf%3Awg%3Aoauth%3A2.0%3Aoob&scope=email%20https%3A%2F%2Fwww.googleapis.com%2Fauth%2Fdocs.test%20https%3A%2F%2Fwww.googleapis.com%2Fauth%2Fdrive%20https%3A%2F%2Fwww.googleapis.com%2Fauth%2Fdrive.photos.readonly%20https%3A%2F%2Fwww.googleapis.com%2Fauth%2Fpeopleapi.readonly&response_type=code\n",
      "\n",
      "Enter your authorization code:\n",
      "··········\n",
      "Mounted at /content/drive\n"
     ]
    }
   ],
   "source": [
    "from google.colab import drive\n",
    "drive.mount('/content/drive')"
   ]
  },
  {
   "cell_type": "code",
   "execution_count": 0,
   "metadata": {
    "colab": {
     "base_uri": "https://localhost:8080/",
     "height": 383
    },
    "colab_type": "code",
    "id": "xxNDp_rLgGMm",
    "outputId": "d879d81e-499e-40bb-cece-b56c80ee419a"
   },
   "outputs": [
    {
     "name": "stdout",
     "output_type": "stream",
     "text": [
      "Collecting catboost\n",
      "\u001b[?25l  Downloading https://files.pythonhosted.org/packages/ad/30/a6178a9b6b5a9d9f91f6fee423e68d0545330f1c690fe419e59a3da6a38a/catboost-0.18.1-cp36-none-manylinux1_x86_64.whl (62.9MB)\n",
      "\u001b[K     |████████████████████████████████| 62.9MB 37kB/s \n",
      "\u001b[?25hRequirement already satisfied: plotly in /usr/local/lib/python3.6/dist-packages (from catboost) (4.1.1)\n",
      "Requirement already satisfied: scipy in /usr/local/lib/python3.6/dist-packages (from catboost) (1.3.1)\n",
      "Requirement already satisfied: six in /usr/local/lib/python3.6/dist-packages (from catboost) (1.12.0)\n",
      "Requirement already satisfied: matplotlib in /usr/local/lib/python3.6/dist-packages (from catboost) (3.1.1)\n",
      "Requirement already satisfied: graphviz in /usr/local/lib/python3.6/dist-packages (from catboost) (0.10.1)\n",
      "Requirement already satisfied: numpy>=1.16.0 in /usr/local/lib/python3.6/dist-packages (from catboost) (1.17.3)\n",
      "Requirement already satisfied: pandas>=0.24.0 in /usr/local/lib/python3.6/dist-packages (from catboost) (0.25.3)\n",
      "Requirement already satisfied: retrying>=1.3.3 in /usr/local/lib/python3.6/dist-packages (from plotly->catboost) (1.3.3)\n",
      "Requirement already satisfied: cycler>=0.10 in /usr/local/lib/python3.6/dist-packages (from matplotlib->catboost) (0.10.0)\n",
      "Requirement already satisfied: python-dateutil>=2.1 in /usr/local/lib/python3.6/dist-packages (from matplotlib->catboost) (2.6.1)\n",
      "Requirement already satisfied: kiwisolver>=1.0.1 in /usr/local/lib/python3.6/dist-packages (from matplotlib->catboost) (1.1.0)\n",
      "Requirement already satisfied: pyparsing!=2.0.4,!=2.1.2,!=2.1.6,>=2.0.1 in /usr/local/lib/python3.6/dist-packages (from matplotlib->catboost) (2.4.2)\n",
      "Requirement already satisfied: pytz>=2017.2 in /usr/local/lib/python3.6/dist-packages (from pandas>=0.24.0->catboost) (2018.9)\n",
      "Requirement already satisfied: setuptools in /usr/local/lib/python3.6/dist-packages (from kiwisolver>=1.0.1->matplotlib->catboost) (41.4.0)\n",
      "Installing collected packages: catboost\n",
      "Successfully installed catboost-0.18.1\n"
     ]
    }
   ],
   "source": [
    "#install CATBOOST\n",
    "pip install catboost"
   ]
  },
  {
   "cell_type": "code",
   "execution_count": 0,
   "metadata": {
    "colab": {},
    "colab_type": "code",
    "id": "ctZOLFxAfkkC"
   },
   "outputs": [],
   "source": [
    "import numpy as np\n",
    "import pandas as pd\n",
    "import seaborn as sns\n",
    "import matplotlib.pyplot as plt\n",
    "from sklearn import preprocessing\n",
    "import seaborn as seabornInstance \n",
    "from catboost import CatBoostRegressor\n",
    "from sklearn.linear_model import Ridge\n",
    "from sklearn.metrics import mean_absolute_error \n",
    "from sklearn.preprocessing import StandardScaler\n",
    "from sklearn.linear_model import LinearRegression\n",
    "from sklearn.ensemble import RandomForestRegressor\n",
    "from sklearn.model_selection import train_test_split \n",
    "from sklearn.metrics import mean_absolute_error,mean_squared_error, r2_score\n",
    "import lightgbm as lgb\n",
    "# dataset = pd.read_csv('/content/drive/My Drive/Colab Notebooks/ML/Train_Data.csv')\n",
    "# dataWithoutLabels = pd.read_csv(('/content/drive/My Drive/Colab Notebooks/ML/Test_Data.csv'))\n",
    "# temp=pd.concat([dataset,dataWithoutLabels], ignore_index=True)\n",
    "# print(dataset.tail)\n",
    "# print(temp.columns.tolist())\n",
    "#temp['Yearly Income in addition to Salary (e.g. Rental Income)']=pd.to_numeric(temp['Yearly Income in addition to Salary (e.g. Rental Income)'].map(lambda x: x.rstrip(' EUR')))\n",
    "#print(temp['Yearly Income in addition to Salary (e.g. Rental Income)'].unique())"
   ]
  },
  {
   "cell_type": "code",
   "execution_count": 0,
   "metadata": {
    "colab": {},
    "colab_type": "code",
    "id": "KdkitfIkf8SI"
   },
   "outputs": [],
   "source": [
    "# col='Yearly Income in addition to Salary (e.g. Rental Income)'\n",
    "# temp[col]=temp[col].map(lambda x: x.rstrip(' EUR'))\n",
    "# print(temp[col].unique())\n",
    "# a=temp[col].value_counts(dropna=False)\n",
    "# print(a)\n",
    "# X_train,X_test = temp.iloc[:1048574],temp.iloc[1048575:]\n",
    "# print(X_train.head)\n",
    "# rename_cols = {\"Income in EUR\":'Income'}\n",
    "# train = train.rename(columns=rename_cols)\n",
    "# for col in fill_col_dict.keys():\n",
    "    # data[col] = data[col].fillna(fill_col_dict[col])\n",
    "#X_train,X_test = data[features_col].iloc[:1048574],data[features_col].iloc[1048575:]"
   ]
  },
  {
   "cell_type": "code",
   "execution_count": 0,
   "metadata": {
    "colab": {},
    "colab_type": "code",
    "id": "Bd6MBhq71Des"
   },
   "outputs": [],
   "source": [
    "\n",
    "# to add noise on the data if dataframe has any NAN values\n",
    "def add_noise(series, noise_level):\n",
    "    return series * (1 + noise_level * np.random.randn(len(series)))\n",
    "\n",
    "\n",
    "#Function to apply Target encoding on categorial data it takes train and test column along with target column to give logical mean value to strings.\n",
    "\n",
    "def target_encode(trn_series, tst_series,target):\n",
    "    min_samples_leaf=1\n",
    "    smoothing=1\n",
    "    noise_level=0\n",
    "    temp = pd.concat([trn_series, target], axis=1)\n",
    "    \n",
    "    # Compute target mean \n",
    "    averages = temp.groupby(by=trn_series.name)[target.name].agg([\"mean\", \"count\"])\n",
    "    \n",
    "    # Compute smoothing\n",
    "    smoothing = 1 / (1 + np.exp(-(averages[\"count\"] - min_samples_leaf) / smoothing))\n",
    "    \n",
    "    # Apply average function to all target data\n",
    "    prior = target.mean()\n",
    "    \n",
    "    # The bigger the count the less full_avg is taken into account\n",
    "    averages[target.name] = prior * (1 - smoothing) + averages[\"mean\"] * smoothing\n",
    "    averages.drop([\"mean\", \"count\"], axis=1, inplace=True)\n",
    "    \n",
    "    # Apply averages to train and test series\n",
    "    ft_trn_series = pd.merge(\n",
    "        trn_series.to_frame(trn_series.name),\n",
    "        averages.reset_index().rename(columns={'index': target.name, target.name: 'average'}),\n",
    "        on=trn_series.name,\n",
    "        how='left')['average'].rename(trn_series.name + '_mean').fillna(prior)\n",
    "    \n",
    "    # pd.merge does not keep the index so restore it\n",
    "    ft_trn_series.index = trn_series.index \n",
    "    ft_tst_series = pd.merge(\n",
    "        tst_series.to_frame(tst_series.name),\n",
    "        averages.reset_index().rename(columns={'index': target.name, target.name: 'average'}),\n",
    "        on=tst_series.name,\n",
    "        how='left')['average'].rename(trn_series.name + '_mean').fillna(prior)\n",
    "    \n",
    "    # pd.merge does not keep the index so restore it\n",
    "    ft_tst_series.index = tst_series.index\n",
    "    \n",
    "    return add_noise(ft_trn_series, noise_level), add_noise(ft_tst_series, noise_level)\n"
   ]
  },
  {
   "cell_type": "code",
   "execution_count": 0,
   "metadata": {
    "colab": {},
    "colab_type": "code",
    "id": "jZo1r5_XjjxT"
   },
   "outputs": [],
   "source": [
    "\n",
    "def prepareData(dataset,dataWithoutLabels):\n",
    "  #training data+test data\n",
    "  \n",
    "  dataset['Gender']=dataset['Gender'].replace(['unknown','0',np.nan],'UNKOWN')  \n",
    "  dataset['Gender']=dataset['Gender'].replace(['f'],'female')  \n",
    "  dataset['Housing Situation']=dataset['Housing Situation'].replace(['nA',0,'0'],'UNKOWN')\n",
    "  dataset['Work Experience in Current Job [years]']=pd.to_numeric(dataset['Work Experience in Current Job [years]'].replace(['#NUM!'],0))\n",
    "  dataset['Satisfation with employer']=dataset['Satisfation with employer'].replace([np.nan],'Somewhat Happy')\n",
    "  dataset['Yearly Income in addition to Salary (e.g. Rental Income)']=pd.to_numeric(dataset['Yearly Income in addition to Salary (e.g. Rental Income)'].map(lambda x: x.rstrip(' EUR')))\n",
    "  dataset['Hair Color']=dataset['Hair Color'].replace(['unknown','0',np.nan],'UNKOWN')\n",
    "  #print('fillna mean')\n",
    "  #dataset=dataset.fillna(dataset.mean())\n",
    "  dataWithoutLabels['Gender']=dataWithoutLabels['Gender'].replace(['unknown','0',np.nan],'UNKOWN')  \n",
    "  dataWithoutLabels['Gender']=dataWithoutLabels['Gender'].replace(['f'],'female')  \n",
    "  dataWithoutLabels['Housing Situation']=dataWithoutLabels['Housing Situation'].replace(['nA',0,'0'],'UNKOWN')\n",
    "  dataWithoutLabels['Work Experience in Current Job [years]']=pd.to_numeric(dataWithoutLabels['Work Experience in Current Job [years]'].replace(['#NUM!'],0))\n",
    "  dataWithoutLabels['Satisfation with employer']=dataWithoutLabels['Satisfation with employer'].replace([np.nan],'Somewhat Happy')\n",
    "  dataWithoutLabels['Yearly Income in addition to Salary (e.g. Rental Income)']=pd.to_numeric(dataWithoutLabels['Yearly Income in addition to Salary (e.g. Rental Income)'].map(lambda x: x.rstrip(' EUR')))\n",
    "  dataWithoutLabels['Hair Color']=dataWithoutLabels['Hair Color'].replace(['unknown','0',np.nan],'UNKOWN')\n",
    "  dataWithoutLabels=dataWithoutLabels.fillna(method='ffill')\n",
    "  dataset=dataset.fillna(method='ffill')\n",
    "    #encoding of categorical data\n",
    "  dataset['Housing Situation'],dataWithoutLabels['Housing Situation']=target_encode(dataset['Housing Situation'], dataWithoutLabels['Housing Situation'],dataset['Total Yearly Income [EUR]'])\n",
    "  dataset['Satisfation with employer'],dataWithoutLabels['Satisfation with employer']=target_encode(dataset['Satisfation with employer'], dataWithoutLabels['Satisfation with employer'],dataset['Total Yearly Income [EUR]'])\n",
    "  dataset['Gender'],dataWithoutLabels['Gender']=target_encode(dataset['Gender'], dataWithoutLabels['Gender'],dataset['Total Yearly Income [EUR]'])\n",
    "  dataset['Country'],dataWithoutLabels['Country']=target_encode(dataset['Country'], dataWithoutLabels['Country'],dataset['Total Yearly Income [EUR]'])\n",
    "  dataset['Profession'],dataWithoutLabels['Profession']=target_encode(dataset['Profession'], dataWithoutLabels['Profession'],dataset['Total Yearly Income [EUR]'])\n",
    "  dataset['University Degree'],dataWithoutLabels['University Degree']=target_encode(dataset['University Degree'], dataWithoutLabels['University Degree'],dataset['Total Yearly Income [EUR]'])\n",
    "  dataset['Hair Color'],dataWithoutLabels['Hair Color']=target_encode(dataset['Hair Color'], dataWithoutLabels['Hair Color'],dataset['Total Yearly Income [EUR]'])\n",
    "  return dataset,dataWithoutLabels\n"
   ]
  },
  {
   "cell_type": "code",
   "execution_count": 0,
   "metadata": {
    "colab": {
     "base_uri": "https://localhost:8080/",
     "height": 110
    },
    "colab_type": "code",
    "id": "tnFL44P9hFuU",
    "outputId": "e8a3b350-f8e9-4428-adb4-b37da1d88b9a"
   },
   "outputs": [
    {
     "name": "stderr",
     "output_type": "stream",
     "text": [
      "/usr/local/lib/python3.6/dist-packages/IPython/core/interactiveshell.py:2718: DtypeWarning: Columns (2,4) have mixed types. Specify dtype option on import or set low_memory=False.\n",
      "  interactivity=interactivity, compiler=compiler, result=result)\n",
      "/usr/local/lib/python3.6/dist-packages/IPython/core/interactiveshell.py:2718: DtypeWarning: Columns (4) have mixed types. Specify dtype option on import or set low_memory=False.\n",
      "  interactivity=interactivity, compiler=compiler, result=result)\n"
     ]
    }
   ],
   "source": [
    "\n",
    "  # plot the Values on a graph\n",
    "def plotActualVsPredictedIncome(y_test, y_pred):\n",
    "    df = pd.DataFrame({'Actual': y_test, 'Predicted': y_pred})\n",
    "    df1 = df.head(25)\n",
    "    df1.plot(kind='bar',figsize=(10,8))\n",
    "    plt.grid(which='major', linestyle='-', linewidth='0.5', color='green')\n",
    "    plt.grid(which='minor', linestyle=':', linewidth='0.5', color='black')\n",
    "    plt.show()    \n",
    "\n",
    "def trainModel(X_train, y_train, X_test, y_test):\n",
    "   \n",
    "    \n",
    "    #Implementing linear regression (error rate 110000+)\n",
    "    # trainingRegressor = LinearRegression()  \n",
    "    # trainingRegressor.fit(X_train, y_train)\n",
    "    # y_pred = trainingRegressor.predict(X_test)\n",
    "    \n",
    "    \n",
    "    #Implementing RandomForest Regressor (error rate 80000+)\n",
    "    #trainingRegressor = RandomForestRegressor(n_estimators=100)\n",
    "    #trainingRegressor.fit(X_train,y_train)\n",
    "    #y_pred = trainingRegressor.predict(X_test)\n",
    "    \n",
    "    #Implementing lightgbm    \n",
    "    trainingRegressor = lgb.LGBMRegressor(num_leaves=300,\n",
    "                                          learning_rate=0.05,\n",
    "                                          n_estimators=2000)\n",
    "    trainingRegressor.fit(X_train, y_train,\n",
    "                          eval_set=[(X_test, y_test)],\n",
    "                          eval_metric='l1',\n",
    "                          early_stopping_rounds=5)\n",
    "\n",
    "    \n",
    "    print('Starting predicting...')\n",
    "    # predict\n",
    "    y_pred = trainingRegressor.predict(X_test, num_iteration=trainingRegressor.best_iteration_)\n",
    "    \n",
    "    \n",
    "    #Implementing caatboost (error rate 60000+)\n",
    "    #learning rate to get an optimal solution \n",
    "    \n",
    "    # trainingRegressor = CatBoostRegressor(iterations=7000,learning_rate=0.02)\n",
    "    # trainingRegressor.fit(X_train, y_train,use_best_model=True,verbose=True)\n",
    "    # y_pred=trainingRegressor.predict(X_test)\n",
    "    \n",
    "    \n",
    "    #evaluating the error\n",
    "    df = pd.DataFrame({'Test': y_test, 'Prediction': y_pred})\n",
    "    print(\"mean_absolute_error: %.2f\"\n",
    "      % mean_absolute_error(y_test, y_pred))\n",
    "    \n",
    "    #ploting the values on the graph\n",
    "    #plotActualVsPredictedIncome(y_test, y_pred)\n",
    "\n",
    "    return trainingRegressor\n",
    " \n",
    "\n",
    "def runTrainedModelOnActualData(regressor, featuresToConsider,dataWithoutLabels):\n",
    "    print(featuresToConsider)\n",
    "    print('dataset',dataWithoutLabels[featuresToConsider].dtypes)\n",
    "    #get the values for X_test    \n",
    "    X = dataWithoutLabels[featuresToConsider].values\n",
    "    print('head',X)\n",
    "    #prediciting the values on the real test data\n",
    "    predictedData = regressor.predict(X, num_iteration=regressor.best_iteration_)\n",
    "    df = pd.DataFrame({'Predicted': predictedData})\n",
    "\n",
    "    #write the data to csv\n",
    "    fileName = '/content/drive/My Drive/Colab Notebooks/ML/RF_Sumission_file.csv'\n",
    "    df.to_csv(fileName, sep=',',index=False)\n",
    "    \n",
    "    \n",
    "\n",
    "    \n",
    "\n",
    "#Reading data from CSV\n",
    "dataset = pd.read_csv('/content/drive/My Drive/Colab Notebooks/ML/Train_Data.csv')\n",
    "dataWithoutLabels = pd.read_csv(('/content/drive/My Drive/Colab Notebooks/ML/Test_Data.csv'))\n",
    "#combined_data=pd.concat([dataset,dataWithoutLabels], ignore_index=True)\n",
    "\n",
    "#preprocessing data on both the datasets\n",
    "\n"
   ]
  },
  {
   "cell_type": "code",
   "execution_count": 0,
   "metadata": {
    "colab": {},
    "colab_type": "code",
    "id": "BSl4Kps82aYT"
   },
   "outputs": [],
   "source": [
    "\n",
    "dataset,dataWithoutLabels = prepareData(dataset,dataWithoutLabels)\n"
   ]
  },
  {
   "cell_type": "code",
   "execution_count": 0,
   "metadata": {
    "colab": {},
    "colab_type": "code",
    "id": "xaRQvjXAMOzb"
   },
   "outputs": [],
   "source": [
    "featuresToConsider = ['Year of Record', 'Housing Situation', 'Crime Level in the City of Employement', 'Work Experience in Current Job [years]', 'Satisfation with employer', 'Gender', 'Age', 'Country', 'Size of City', 'Profession', 'University Degree', 'Wears Glasses', 'Hair Color', 'Body Height [cm]', 'Yearly Income in addition to Salary (e.g. Rental Income)']\n",
    "\n",
    "#getting thte target data\n",
    "y = dataset['Total Yearly Income [EUR]'].values\n",
    "from sklearn.preprocessing import StandardScaler\n",
    "scaler=StandardScaler()\n",
    "\n",
    "#Normalization\n",
    "#dataset[featuresToConsider] = pd.DataFrame(scaler.fit_transform(dataset[featuresToConsider]), columns=featuresToConsider)\n",
    "#dataWithoutLabels[featuresToConsider] = pd.DataFrame(scaler.fit_transform(dataWithoutLabels[featuresToConsider]), columns=featuresToConsider)\n",
    "# print(dataset[featuresToConsider].dtypes)\n",
    "# print(dataset[featuresToConsider].dtypes)\n",
    "# print(dataset['Year of Record'].unique())"
   ]
  },
  {
   "cell_type": "code",
   "execution_count": 0,
   "metadata": {
    "colab": {
     "base_uri": "https://localhost:8080/",
     "height": 601
    },
    "colab_type": "code",
    "id": "wstb1UVU3XMj",
    "outputId": "0eef30a2-fe45-4921-b8bc-cd9e2df95c4b"
   },
   "outputs": [
    {
     "name": "stdout",
     "output_type": "stream",
     "text": [
      "Mean squared error: 99.81\n",
      "['Year of Record', 'Housing Situation', 'Crime Level in the City of Employement', 'Work Experience in Current Job [years]', 'Satisfation with employer', 'Gender', 'Age', 'Country', 'Size of City', 'Profession', 'University Degree', 'Wears Glasses', 'Hair Color', 'Body Height [cm]', 'Yearly Income in addition to Salary (e.g. Rental Income)']\n",
      "dataset Year of Record                                              float64\n",
      "Housing Situation                                           float64\n",
      "Crime Level in the City of Employement                        int64\n",
      "Work Experience in Current Job [years]                      float64\n",
      "Satisfation with employer                                   float64\n",
      "Gender                                                      float64\n",
      "Age                                                           int64\n",
      "Country                                                     float64\n",
      "Size of City                                                  int64\n",
      "Profession                                                  float64\n",
      "University Degree                                           float64\n",
      "Wears Glasses                                                 int64\n",
      "Hair Color                                                  float64\n",
      "Body Height [cm]                                              int64\n",
      "Yearly Income in addition to Salary (e.g. Rental Income)    float64\n",
      "dtype: object\n",
      "head [[1.99400000e+03 7.70836128e+04 2.30000000e+01 ... 6.80293587e+04\n",
      "  1.51000000e+02 0.00000000e+00]\n",
      " [1.96400000e+03 1.52577861e+04 1.60000000e+01 ... 6.85397770e+04\n",
      "  1.81000000e+02 0.00000000e+00]\n",
      " [1.97400000e+03 2.43592940e+04 2.20000000e+01 ... 6.86325918e+04\n",
      "  1.79000000e+02 0.00000000e+00]\n",
      " ...\n",
      " [1.95700000e+03 9.92318554e+03 8.30000000e+01 ... 6.85397770e+04\n",
      "  1.66000000e+02 6.89808200e+04]\n",
      " [2.00300000e+03 1.52213276e+05 1.01000000e+02 ... 6.86325918e+04\n",
      "  1.80000000e+02 0.00000000e+00]\n",
      " [1.95400000e+03 9.92318554e+03 4.00000000e+00 ... 6.85397770e+04\n",
      "  1.54000000e+02 0.00000000e+00]]\n"
     ]
    }
   ],
   "source": [
    "\n",
    "#Features Dataset\n",
    "X = dataset[featuresToConsider].values\n",
    "\n",
    "#divide the training data into test and train\n",
    "X_train, X_test, y_train, y_test = train_test_split(X, y, test_size=0.25, random_state=0)\n",
    "\n",
    "#get the trained model\n",
    "regressor = trainModel(X_train, y_train, X_test, y_test)\n",
    "# print(dataWithoutLabels.head)\n",
    "# print(dataWithoutLabels.isnull().sum())\n",
    "#run on the real test data using the. trained model\n",
    "runTrainedModelOnActualData(regressor, featuresToConsider,dataWithoutLabels)"
   ]
  },
  {
   "cell_type": "code",
   "execution_count": 0,
   "metadata": {
    "colab": {},
    "colab_type": "code",
    "id": "7lyvCXDGc1C3"
   },
   "outputs": [],
   "source": []
  }
 ],
 "metadata": {
  "colab": {
   "collapsed_sections": [],
   "machine_shape": "hm",
   "name": "ML_Group _income_prediction.ipynb",
   "provenance": []
  },
  "kernelspec": {
   "display_name": "Python 3",
   "language": "python",
   "name": "python3"
  },
  "language_info": {
   "codemirror_mode": {
    "name": "ipython",
    "version": 3
   },
   "file_extension": ".py",
   "mimetype": "text/x-python",
   "name": "python",
   "nbconvert_exporter": "python",
   "pygments_lexer": "ipython3",
   "version": "3.7.4"
  }
 },
 "nbformat": 4,
 "nbformat_minor": 1
}
